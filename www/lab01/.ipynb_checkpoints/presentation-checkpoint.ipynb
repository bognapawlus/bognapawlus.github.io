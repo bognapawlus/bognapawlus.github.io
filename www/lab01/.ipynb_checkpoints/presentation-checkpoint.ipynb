{
 "cells": [
  {
   "cell_type": "markdown",
   "id": "77e9c59f",
   "metadata": {},
   "source": [
    "### 1. Creating index.md:"
   ]
  },
  {
   "cell_type": "code",
   "execution_count": 1,
   "id": "9b71bb09",
   "metadata": {},
   "outputs": [],
   "source": [
    "import requests\n",
    "from bs4 import BeautifulSoup\n",
    "import os\n",
    "\n",
    "response = requests.get('https://www.nationalgeographic.com/animals/mammals/facts/domestic-dog')\n",
    "html_content = response.text\n",
    "soup = BeautifulSoup(html_content, 'html.parser')\n",
    "\n",
    "headings = soup.find_all(\"h2\")\n",
    "paragraphs = soup.find_all(\"p\")\n",
    "\n",
    "path1 = os.path.join(os.getcwd(), \"index.md\")\n",
    "with open(path1, 'w') as f2:\n",
    "    f2.write(\"# Dogs\\n\\n\")\n",
    "    f2.write(f\"{headings[0].text}\\n\\n\")\n",
    "    f2.write(f\"{paragraphs[6].text}\\n\\n\")\n",
    "    f2.write(f\"{paragraphs[6].text}\\n\\n\")\n",
    "    \n",
    "    f2.write(f\"[List of the most popular dogs breeds](list.md)\\n\\n\")\n",
    "    f2.write(\"![photo](https://www.alcazar.in/UserUploads/Editted-Images/yWGlBiEHBzLJWmS9GeJi.jpg)\")"
   ]
  },
  {
   "cell_type": "markdown",
   "id": "6c6dc105",
   "metadata": {},
   "source": [
    "### 2. Creating list.md"
   ]
  },
  {
   "cell_type": "code",
   "execution_count": 2,
   "id": "d4177b35",
   "metadata": {},
   "outputs": [],
   "source": [
    "response = requests.get('https://www.alcazar.in/blog/a-complete-dog-breed-list')\n",
    "html_content = response.text\n",
    "soup = BeautifulSoup(html_content, 'html.parser')\n",
    "list_of_dogs = soup.find_all('td')\n",
    "n = len(list_of_dogs)\n",
    "column_names = list_of_dogs[0:7]"
   ]
  },
  {
   "cell_type": "code",
   "execution_count": 3,
   "id": "f39b1b82",
   "metadata": {},
   "outputs": [],
   "source": [
    "i = 7\n",
    "with open('list.md', 'w') as f:\n",
    "    f.write(\"# _List of the most popular dogs breeds:_\\n\\n\")\n",
    "    \n",
    "    while i < n:\n",
    "        start = i\n",
    "        end = i + 7\n",
    "        \n",
    "        f.write(f\"### {list_of_dogs[i].text}. {list_of_dogs[i + 1].text}\\n\\n\")\n",
    "        \n",
    "        for el in range(start + 2, end):\n",
    "            f.write(f\"**{column_names[el%7].text}:** {list_of_dogs[el].text}\\n\\n\")\n",
    "        f.write(\"\\n\")\n",
    "        \n",
    "        dog_name = list_of_dogs[i+1].text\n",
    "        dog_name = dog_name.replace(' ', '_')\n",
    "        file_name = f\"dogs-informations/{dog_name}.md\"\n",
    "        f.write(f\"[More information about {list_of_dogs[i+1].text}]({file_name})\\n\\n\\n\\n\")\n",
    "\n",
    "        i = end"
   ]
  },
  {
   "cell_type": "markdown",
   "id": "dd64a190",
   "metadata": {},
   "source": [
    "### 3. List with photos"
   ]
  },
  {
   "cell_type": "code",
   "execution_count": 4,
   "id": "28059336",
   "metadata": {},
   "outputs": [
    {
     "data": {
      "text/plain": [
       "['https://www.alcazar.in/UserUploads/Editted-Images/0XRPxWJqlNfaAxpSNXfl.jpg',\n",
       " 'https://www.alcazar.in/UserUploads/Editted-Images/qG9PBv7kNlAINEL2JDWA.jpg',\n",
       " 'https://www.alcazar.in/UserUploads/Editted-Images/yrx15I8mzsGLdBBeM0ZT.jpg',\n",
       " 'https://www.alcazar.in/UserUploads/Editted-Images/UubVMtqkygYVBLKjeWK9.jpg',\n",
       " 'https://www.alcazar.in/UserUploads/Editted-Images/UTnegmX8YBGjJjlULTIs.jpg',\n",
       " 'https://www.alcazar.in/UserUploads/Editted-Images/7peY1TSQTpIZoqoWyzZa.jpg',\n",
       " 'https://www.alcazar.in/UserUploads/Editted-Images/kd08YslYyQj8tfIF1Cat.jpg',\n",
       " 'https://www.alcazar.in/UserUploads/Editted-Images/EAeK5OepZYzs5wdpy9Io.jpg',\n",
       " 'https://www.alcazar.in/UserUploads/Editted-Images/0aWfk8f6ArhbzwKLajiY.jpg',\n",
       " 'https://www.alcazar.in/UserUploads/Editted-Images/TvOLaNlu3Gh9pJfG4cFP.jpg',\n",
       " 'https://www.alcazar.in/UserUploads/Editted-Images/1wCOyeqcO8WuXXTPUPNu.jpg',\n",
       " 'https://www.alcazar.in/UserUploads/Editted-Images/CijQHIxl82hal6hh1qcP.jpg',\n",
       " 'https://www.alcazar.in/UserUploads/Editted-Images/1oVmIbiWk2pTuKtTGDFJ.jpg',\n",
       " 'https://www.alcazar.in/UserUploads/Editted-Images/7c9rtwqotEHwvzbxR9e1.jpg',\n",
       " 'https://www.alcazar.in/UserUploads/Editted-Images/7eg7IpZJherIU1oLQWyW.jpg',\n",
       " 'https://www.alcazar.in/UserUploads/Editted-Images/Y58VyTmJyhe5Ur84ohoP.jpg',\n",
       " 'https://www.alcazar.in/UserUploads/Editted-Images/sou91Y3nfGnvLUc2vwIK.jpg',\n",
       " 'https://www.alcazar.in/UserUploads/Editted-Images/XUHz5gpDlzaV2Gz7Xywy.jpg',\n",
       " 'https://www.alcazar.in/UserUploads/Editted-Images/75TQHAEZJoDiEUvgfhwU.jpg',\n",
       " 'https://www.alcazar.in/UserUploads/Editted-Images/RlXvFyKWwNQGsbIBJq1C.jpg',\n",
       " 'https://www.alcazar.in/UserUploads/Editted-Images/JhMpTe7BjRioSquMRNjX.jpg',\n",
       " 'https://www.alcazar.in/UserUploads/Editted-Images/3mPluMGo5lf4YCFNSWtS.jpg',\n",
       " 'https://www.alcazar.in/UserUploads/Editted-Images/YODBGkKUvlJ5b8eTqgem.jpg',\n",
       " 'https://www.alcazar.in/UserUploads/Editted-Images/i753uKe4WuLTuSqtKxDI.jpg',\n",
       " 'https://www.alcazar.in/UserUploads/Editted-Images/zEFEDjmA2czX0x8ceGnP.jpg',\n",
       " 'https://www.alcazar.in/UserUploads/Editted-Images/mtCVJqtdVmUHewZPzGRw.jpg',\n",
       " 'https://www.alcazar.in/UserUploads/Editted-Images/A79Kv3wQFCFJqf2gyH0G.jpg',\n",
       " 'https://www.alcazar.in/UserUploads/Editted-Images/HcMz4vzQnSEOJzfIA0Ba.jpg',\n",
       " 'https://www.alcazar.in/UserUploads/Editted-Images/yWGlBiEHBzLJWmS9GeJi.jpg',\n",
       " 'https://www.alcazar.in/UserUploads/Editted-Images/RhfqYYRJi96szQHlBJuF.jpg',\n",
       " 'https://www.alcazar.in/UserUploads/Editted-Images/9lUKHrczigcX6XlNZBBm.jpg',\n",
       " 'https://www.alcazar.in/UserUploads/Editted-Images/ipb7W8eUbgi4vR1GQ7Zi.jpg',\n",
       " 'https://www.alcazar.in/UserUploads/Editted-Images/vCXYdy6IZYgDd2NygThE.jpg',\n",
       " 'https://www.alcazar.in/UserUploads/Editted-Images/N9rgZRD7ErflMiSJrh5y.jpg',\n",
       " 'https://www.alcazar.in/UserUploads/Editted-Images/IuAt2hQd5lXnBwvBRZt6.jpg']"
      ]
     },
     "execution_count": 4,
     "metadata": {},
     "output_type": "execute_result"
    }
   ],
   "source": [
    "list_of_photos = soup.find_all(\"img\")\n",
    "list_of_photos = [el for el in list_of_photos if \"Editted-Images\" in str(el)]\n",
    "list_of_photos = [str(el).split(\"\\\"\")[7] for el in list_of_photos]\n",
    "list_of_photos = [f\"https://www.alcazar.in{el}\" for el in list_of_photos]\n",
    "list_of_photos\n",
    "#str(list_of_photos[0]).split(\"\\\"\")[7]"
   ]
  },
  {
   "cell_type": "markdown",
   "id": "594bda25",
   "metadata": {},
   "source": [
    "### 3. Creating sites with all breeds:"
   ]
  },
  {
   "cell_type": "code",
   "execution_count": 30,
   "id": "60ec6235",
   "metadata": {},
   "outputs": [
    {
     "name": "stdout",
     "output_type": "stream",
     "text": [
      "Chihuahua description\n",
      "8,Yorkshire Terrier description\n",
      "15,Pomeranian description\n",
      "22,Papillon description\n"
     ]
    },
    {
     "ename": "KeyboardInterrupt",
     "evalue": "",
     "output_type": "error",
     "traceback": [
      "\u001b[0;31m---------------------------------------------------------------------------\u001b[0m",
      "\u001b[0;31mKeyboardInterrupt\u001b[0m                         Traceback (most recent call last)",
      "Cell \u001b[0;32mIn [30], line 13\u001b[0m\n\u001b[1;32m     10\u001b[0m f3\u001b[38;5;241m.\u001b[39mwrite(\u001b[38;5;124mf\u001b[39m\u001b[38;5;124m\"\u001b[39m\u001b[38;5;124m### \u001b[39m\u001b[38;5;132;01m{\u001b[39;00mdog_name\u001b[38;5;132;01m}\u001b[39;00m\u001b[38;5;124m - description:\u001b[39m\u001b[38;5;130;01m\\n\u001b[39;00m\u001b[38;5;130;01m\\n\u001b[39;00m\u001b[38;5;124m\"\u001b[39m)\n\u001b[1;32m     12\u001b[0m \u001b[38;5;28mprint\u001b[39m(\u001b[38;5;124mf\u001b[39m\u001b[38;5;124m\"\u001b[39m\u001b[38;5;132;01m{\u001b[39;00mdog_name\u001b[38;5;132;01m}\u001b[39;00m\u001b[38;5;124m description\u001b[39m\u001b[38;5;124m\"\u001b[39m)\n\u001b[0;32m---> 13\u001b[0m results \u001b[38;5;241m=\u001b[39m \u001b[43mDDGS\u001b[49m\u001b[43m(\u001b[49m\u001b[43m)\u001b[49m\u001b[38;5;241;43m.\u001b[39;49m\u001b[43mtext\u001b[49m\u001b[43m(\u001b[49m\u001b[38;5;124;43mf\u001b[39;49m\u001b[38;5;124;43m\"\u001b[39;49m\u001b[38;5;132;43;01m{\u001b[39;49;00m\u001b[43mdog_name\u001b[49m\u001b[38;5;132;43;01m}\u001b[39;49;00m\u001b[38;5;124;43m description\u001b[39;49m\u001b[38;5;124;43m\"\u001b[39;49m\u001b[43m,\u001b[49m\u001b[43m \u001b[49m\u001b[43mmax_results\u001b[49m\u001b[38;5;241;43m=\u001b[39;49m\u001b[38;5;241;43m1\u001b[39;49m\u001b[43m)\u001b[49m\n\u001b[1;32m     14\u001b[0m f3\u001b[38;5;241m.\u001b[39mwrite(results[\u001b[38;5;241m0\u001b[39m][\u001b[38;5;124m'\u001b[39m\u001b[38;5;124mbody\u001b[39m\u001b[38;5;124m'\u001b[39m])\n\u001b[1;32m     15\u001b[0m f3\u001b[38;5;241m.\u001b[39mwrite(\u001b[38;5;124mf\u001b[39m\u001b[38;5;124m\"\u001b[39m\u001b[38;5;124m[\u001b[39m\u001b[38;5;124m\\\u001b[39m\u001b[38;5;124m[read more\u001b[39m\u001b[38;5;124m\\\u001b[39m\u001b[38;5;124m]](\u001b[39m\u001b[38;5;132;01m{\u001b[39;00mresults[\u001b[38;5;241m0\u001b[39m][\u001b[38;5;124m'\u001b[39m\u001b[38;5;124mhref\u001b[39m\u001b[38;5;124m'\u001b[39m]\u001b[38;5;132;01m}\u001b[39;00m\u001b[38;5;124m)\u001b[39m\u001b[38;5;130;01m\\n\u001b[39;00m\u001b[38;5;130;01m\\n\u001b[39;00m\u001b[38;5;124mSource: [\u001b[39m\u001b[38;5;132;01m{\u001b[39;00mresults[\u001b[38;5;241m0\u001b[39m][\u001b[38;5;124m'\u001b[39m\u001b[38;5;124mtitle\u001b[39m\u001b[38;5;124m'\u001b[39m]\u001b[38;5;132;01m}\u001b[39;00m\u001b[38;5;124m](\u001b[39m\u001b[38;5;132;01m{\u001b[39;00mresults[\u001b[38;5;241m0\u001b[39m][\u001b[38;5;124m'\u001b[39m\u001b[38;5;124mhref\u001b[39m\u001b[38;5;124m'\u001b[39m]\u001b[38;5;132;01m}\u001b[39;00m\u001b[38;5;124m)\u001b[39m\u001b[38;5;130;01m\\n\u001b[39;00m\u001b[38;5;130;01m\\n\u001b[39;00m\u001b[38;5;124m\"\u001b[39m)\n",
      "File \u001b[0;32m~/notebook/jupyterenv/lib/python3.10/site-packages/duckduckgo_search/duckduckgo_search.py:30\u001b[0m, in \u001b[0;36mDDGS.text\u001b[0;34m(self, *args, **kwargs)\u001b[0m\n\u001b[1;32m     29\u001b[0m \u001b[38;5;28;01mdef\u001b[39;00m \u001b[38;5;21mtext\u001b[39m(\u001b[38;5;28mself\u001b[39m, \u001b[38;5;241m*\u001b[39margs, \u001b[38;5;241m*\u001b[39m\u001b[38;5;241m*\u001b[39mkwargs) \u001b[38;5;241m-\u001b[39m\u001b[38;5;241m>\u001b[39m Optional[List[Dict[\u001b[38;5;28mstr\u001b[39m, Optional[\u001b[38;5;28mstr\u001b[39m]]]]:\n\u001b[0;32m---> 30\u001b[0m     \u001b[38;5;28;01mreturn\u001b[39;00m \u001b[38;5;28;43mself\u001b[39;49m\u001b[38;5;241;43m.\u001b[39;49m\u001b[43m_run_async_in_thread\u001b[49m\u001b[43m(\u001b[49m\u001b[38;5;28;43msuper\u001b[39;49m\u001b[43m(\u001b[49m\u001b[43m)\u001b[49m\u001b[38;5;241;43m.\u001b[39;49m\u001b[43mtext\u001b[49m\u001b[43m(\u001b[49m\u001b[38;5;241;43m*\u001b[39;49m\u001b[43margs\u001b[49m\u001b[43m,\u001b[49m\u001b[43m \u001b[49m\u001b[38;5;241;43m*\u001b[39;49m\u001b[38;5;241;43m*\u001b[39;49m\u001b[43mkwargs\u001b[49m\u001b[43m)\u001b[49m\u001b[43m)\u001b[49m\n",
      "File \u001b[0;32m~/notebook/jupyterenv/lib/python3.10/site-packages/duckduckgo_search/duckduckgo_search.py:27\u001b[0m, in \u001b[0;36mDDGS._run_async_in_thread\u001b[0;34m(self, coro)\u001b[0m\n\u001b[1;32m     25\u001b[0m \u001b[38;5;124;03m\"\"\"Runs an async coroutine in a separate thread.\"\"\"\u001b[39;00m\n\u001b[1;32m     26\u001b[0m future \u001b[38;5;241m=\u001b[39m asyncio\u001b[38;5;241m.\u001b[39mrun_coroutine_threadsafe(coro, \u001b[38;5;28mself\u001b[39m\u001b[38;5;241m.\u001b[39m_loop)\n\u001b[0;32m---> 27\u001b[0m \u001b[38;5;28;01mreturn\u001b[39;00m \u001b[43mfuture\u001b[49m\u001b[38;5;241;43m.\u001b[39;49m\u001b[43mresult\u001b[49m\u001b[43m(\u001b[49m\u001b[43m)\u001b[49m\n",
      "File \u001b[0;32m/usr/lib/python3.10/concurrent/futures/_base.py:453\u001b[0m, in \u001b[0;36mFuture.result\u001b[0;34m(self, timeout)\u001b[0m\n\u001b[1;32m    450\u001b[0m \u001b[38;5;28;01melif\u001b[39;00m \u001b[38;5;28mself\u001b[39m\u001b[38;5;241m.\u001b[39m_state \u001b[38;5;241m==\u001b[39m FINISHED:\n\u001b[1;32m    451\u001b[0m     \u001b[38;5;28;01mreturn\u001b[39;00m \u001b[38;5;28mself\u001b[39m\u001b[38;5;241m.\u001b[39m__get_result()\n\u001b[0;32m--> 453\u001b[0m \u001b[38;5;28;43mself\u001b[39;49m\u001b[38;5;241;43m.\u001b[39;49m\u001b[43m_condition\u001b[49m\u001b[38;5;241;43m.\u001b[39;49m\u001b[43mwait\u001b[49m\u001b[43m(\u001b[49m\u001b[43mtimeout\u001b[49m\u001b[43m)\u001b[49m\n\u001b[1;32m    455\u001b[0m \u001b[38;5;28;01mif\u001b[39;00m \u001b[38;5;28mself\u001b[39m\u001b[38;5;241m.\u001b[39m_state \u001b[38;5;129;01min\u001b[39;00m [CANCELLED, CANCELLED_AND_NOTIFIED]:\n\u001b[1;32m    456\u001b[0m     \u001b[38;5;28;01mraise\u001b[39;00m CancelledError()\n",
      "File \u001b[0;32m/usr/lib/python3.10/threading.py:320\u001b[0m, in \u001b[0;36mCondition.wait\u001b[0;34m(self, timeout)\u001b[0m\n\u001b[1;32m    318\u001b[0m \u001b[38;5;28;01mtry\u001b[39;00m:    \u001b[38;5;66;03m# restore state no matter what (e.g., KeyboardInterrupt)\u001b[39;00m\n\u001b[1;32m    319\u001b[0m     \u001b[38;5;28;01mif\u001b[39;00m timeout \u001b[38;5;129;01mis\u001b[39;00m \u001b[38;5;28;01mNone\u001b[39;00m:\n\u001b[0;32m--> 320\u001b[0m         \u001b[43mwaiter\u001b[49m\u001b[38;5;241;43m.\u001b[39;49m\u001b[43macquire\u001b[49m\u001b[43m(\u001b[49m\u001b[43m)\u001b[49m\n\u001b[1;32m    321\u001b[0m         gotit \u001b[38;5;241m=\u001b[39m \u001b[38;5;28;01mTrue\u001b[39;00m\n\u001b[1;32m    322\u001b[0m     \u001b[38;5;28;01melse\u001b[39;00m:\n",
      "\u001b[0;31mKeyboardInterrupt\u001b[0m: "
     ]
    }
   ],
   "source": [
    "from duckduckgo_search import DDGS\n",
    "for i in range(8, len(list_of_dogs), 7):\n",
    "    #print(list_of_dogs[i].text)\n",
    "    dog_name = list_of_dogs[i].text\n",
    "    \n",
    "    path1 = os.path.join(os.getcwd(), \"dogs-informations\", f\"{dog_name.replace(' ', '_')}.md\")\n",
    "    with open(path1, 'w') as f3:\n",
    "        f3.write(f\"# {dog_name}\\n\\n\")\n",
    "    \n",
    "        f3.write(f\"### {dog_name} - description:\\n\\n\")\n",
    "        \n",
    "        print(f\"{dog_name} description\")\n",
    "        results = DDGS().text(f\"{dog_name} description\", max_results=1)\n",
    "        f3.write(results[0]['body'])\n",
    "        f3.write(f\"[\\[read more\\]]({results[0]['href']})\\n\\nSource: [{results[0]['title']}]({results[0]['href']})\\n\\n\")\n",
    "        \n",
    "        f3.write(f\"### {dog_name} - training:\\n\\n\")\n",
    "        results = DDGS().text(f\"{dog_name} training\", max_results=3)\n",
    "        for j in range(3):\n",
    "            f3.write(results[j]['body'])\n",
    "            f3.write(f\"[\\[read more\\]]({results[j]['href']})\\n\\n\")\n",
    "        \n",
    "        f3.write(f\"### {dog_name} - character:\\n\\n\")\n",
    "        results = DDGS().text(f\"{dog_name} character\", max_results=2)\n",
    "        for j in range(2):\n",
    "            f3.write(results[j]['body'])\n",
    "            f3.write(f\"[\\[read more\\]]({results[j]['href']})\\n\\n\")\n",
    "        \n",
    "        \n",
    "        link = list_of_photos[int(i/7) - 1]\n",
    "        f3.write(f\"![photo]({link})\")\n",
    "        \n",
    "    print(i, end=\",\")\n"
   ]
  },
  {
   "cell_type": "markdown",
   "id": "ec7f25cb",
   "metadata": {},
   "source": [
    "# Pomeranian\n",
    "\n",
    "### Pomeranian - description:\n",
    "\n",
    "The glorious coat, smiling, foxy face, and vivacious personality have helped make the Pom one of the world's most popular toy breeds. The Pomeranian combines a tiny body (no more than seven pounds ...[\\[read more\\]](https://www.akc.org/dog-breeds/pomeranian/)\n",
    "\n",
    "Source: [Pomeranian Dog Breed Information - American Kennel Club](https://www.akc.org/dog-breeds/pomeranian/)\n",
    "\n",
    "### Pomeranian - training:\n",
    "\n",
    "This training includes housebreaking, heeling and commands, as well as behavioral training such as barking, jumping, begging and so on. Every dog (including cute Pomeranians) lives by a natural instinct. He lives in his house/den and everyone (human and canine) are part of his pack. Every pack must have a leader.[\\[read more\\]](https://pomeranian.org/training/)\n",
    "\n",
    "Source: [How to Train a Pomeranian - Pomeranian Headquarters](https://pomeranian.org/training/)\n",
    "\n",
    "### Pomeranian - character:\n",
    "\n",
    "The Pomeranian's popularity rose when members of the British royal family took a liking to the small dogs. At that time, the breed was still larger than today's version. But in the late 1800s, Queen Victoria became a breeder and won a dog show with a particularly small Pomeranian, according to the AKC.[\\[read more\\]](https://www.thesprucepets.com/pomeranian-dog-breed-profile-1117987)\n",
    "\n",
    "Source: [Pomeranian (Pom): Dog Breed Characteristics & Care - The Spruce Pets](https://www.thesprucepets.com/pomeranian-dog-breed-profile-1117987)\n",
    "\n",
    "![photo](https://www.alcazar.in/UserUploads/Editted-Images/yrx15I8mzsGLdBBeM0ZT.jpg)"
   ]
  },
  {
   "cell_type": "code",
   "execution_count": 28,
   "id": "f1728d24",
   "metadata": {},
   "outputs": [
    {
     "name": "stdout",
     "output_type": "stream",
     "text": [
      "About the Breed. The English Springer Spaniel is a sweet-faced, lovable bird dog of great energy, stamina, and brains. Sport hunters cherish the duality of working Springers: handsome, mannerly ...\n",
      "Source: [English Springer Spaniel Dog Breed Information - American Kennel Club](https://www.akc.org/dog-breeds/English-springer-spaniel/)\n",
      "\n",
      "\n"
     ]
    }
   ],
   "source": [
    "results = DDGS().text(f\"golden retriver description\", max_results=1)\n",
    "results = DDGS().text(f\"English Springer Spaniel description\", max_results=1)\n",
    "\n",
    "print(results[0]['body'])\n",
    "print(f\"Source: [{results[0]['title']}]({results[0]['href']})\\n\\n\")"
   ]
  },
  {
   "cell_type": "code",
   "execution_count": null,
   "id": "55832a1e",
   "metadata": {},
   "outputs": [],
   "source": [
    "\n"
   ]
  },
  {
   "cell_type": "code",
   "execution_count": 6,
   "id": "655fc64b",
   "metadata": {},
   "outputs": [],
   "source": [
    "#!pip install --upgrade pip"
   ]
  },
  {
   "cell_type": "code",
   "execution_count": null,
   "id": "629c431a",
   "metadata": {},
   "outputs": [],
   "source": []
  }
 ],
 "metadata": {
  "kernelspec": {
   "display_name": "Python 3 (ipykernel)",
   "language": "python",
   "name": "python3"
  },
  "language_info": {
   "codemirror_mode": {
    "name": "ipython",
    "version": 3
   },
   "file_extension": ".py",
   "mimetype": "text/x-python",
   "name": "python",
   "nbconvert_exporter": "python",
   "pygments_lexer": "ipython3",
   "version": "3.10.12"
  }
 },
 "nbformat": 4,
 "nbformat_minor": 5
}
