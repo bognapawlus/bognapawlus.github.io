{
 "cells": [
  {
   "cell_type": "markdown",
   "id": "77e9c59f",
   "metadata": {},
   "source": [
    "### 1. Creating index.md:"
   ]
  },
  {
   "cell_type": "code",
   "execution_count": 1,
   "id": "9b71bb09",
   "metadata": {},
   "outputs": [],
   "source": [
    "import requests\n",
    "from bs4 import BeautifulSoup\n",
    "import os\n",
    "\n",
    "response = requests.get('https://www.nationalgeographic.com/animals/mammals/facts/domestic-dog')\n",
    "html_content = response.text\n",
    "soup = BeautifulSoup(html_content, 'html.parser')\n",
    "\n",
    "headings = soup.find_all(\"h2\")\n",
    "paragraphs = soup.find_all(\"p\")\n",
    "\n",
    "path1 = os.path.join(os.getcwd(), \"index.md\")\n",
    "with open(path1, 'w') as f2:\n",
    "    f2.write(\"# Dogs\\n\\n\")\n",
    "    f2.write(f\"{headings[0].text}\\n\\n\")\n",
    "    f2.write(f\"{paragraphs[6].text}\\n\\n\")\n",
    "    f2.write(f\"{paragraphs[6].text}\\n\\n\")\n",
    "    \n",
    "    f2.write(f\"[List of the most popular dogs breeds](list.md)\\n\\n\")\n",
    "    f2.write(\"![photo](https://www.alcazar.in/UserUploads/Editted-Images/yWGlBiEHBzLJWmS9GeJi.jpg)\")"
   ]
  },
  {
   "cell_type": "markdown",
   "id": "6c6dc105",
   "metadata": {},
   "source": [
    "### 2. Creating list.md"
   ]
  },
  {
   "cell_type": "code",
   "execution_count": 2,
   "id": "d4177b35",
   "metadata": {},
   "outputs": [],
   "source": [
    "response = requests.get('https://www.alcazar.in/blog/a-complete-dog-breed-list')\n",
    "html_content = response.text\n",
    "soup = BeautifulSoup(html_content, 'html.parser')\n",
    "list_of_dogs = soup.find_all('td')\n",
    "n = len(list_of_dogs)\n",
    "column_names = list_of_dogs[0:7]"
   ]
  },
  {
   "cell_type": "code",
   "execution_count": 3,
   "id": "f39b1b82",
   "metadata": {},
   "outputs": [],
   "source": [
    "i = 7\n",
    "with open('list.md', 'w') as f:\n",
    "    f.write(\"# _List of the most popular dogs breeds:_\\n\\n\")\n",
    "    \n",
    "    while i < n:\n",
    "        start = i\n",
    "        end = i + 7\n",
    "        \n",
    "        f.write(f\"### {list_of_dogs[i].text}. {list_of_dogs[i + 1].text}\\n\\n\")\n",
    "        \n",
    "        for el in range(start + 2, end):\n",
    "            f.write(f\"**{column_names[el%7].text}:** {list_of_dogs[el].text}\\n\\n\")\n",
    "        f.write(\"\\n\")\n",
    "        \n",
    "        dog_name = list_of_dogs[i+1].text\n",
    "        dog_name = dog_name.replace(' ', '_')\n",
    "        file_name = f\"dogs-informations/{dog_name}.md\"\n",
    "        f.write(f\"[More information about {list_of_dogs[i+1].text}]({file_name})\\n\\n\\n\\n\")\n",
    "\n",
    "        i = end"
   ]
  },
  {
   "cell_type": "markdown",
   "id": "dd64a190",
   "metadata": {},
   "source": [
    "### 3. List with photos"
   ]
  },
  {
   "cell_type": "code",
   "execution_count": 4,
   "id": "28059336",
   "metadata": {},
   "outputs": [
    {
     "data": {
      "text/plain": [
       "['https://www.alcazar.in/UserUploads/Editted-Images/0XRPxWJqlNfaAxpSNXfl.jpg',\n",
       " 'https://www.alcazar.in/UserUploads/Editted-Images/qG9PBv7kNlAINEL2JDWA.jpg',\n",
       " 'https://www.alcazar.in/UserUploads/Editted-Images/yrx15I8mzsGLdBBeM0ZT.jpg',\n",
       " 'https://www.alcazar.in/UserUploads/Editted-Images/UubVMtqkygYVBLKjeWK9.jpg',\n",
       " 'https://www.alcazar.in/UserUploads/Editted-Images/UTnegmX8YBGjJjlULTIs.jpg',\n",
       " 'https://www.alcazar.in/UserUploads/Editted-Images/7peY1TSQTpIZoqoWyzZa.jpg',\n",
       " 'https://www.alcazar.in/UserUploads/Editted-Images/kd08YslYyQj8tfIF1Cat.jpg',\n",
       " 'https://www.alcazar.in/UserUploads/Editted-Images/EAeK5OepZYzs5wdpy9Io.jpg',\n",
       " 'https://www.alcazar.in/UserUploads/Editted-Images/0aWfk8f6ArhbzwKLajiY.jpg',\n",
       " 'https://www.alcazar.in/UserUploads/Editted-Images/TvOLaNlu3Gh9pJfG4cFP.jpg',\n",
       " 'https://www.alcazar.in/UserUploads/Editted-Images/1wCOyeqcO8WuXXTPUPNu.jpg',\n",
       " 'https://www.alcazar.in/UserUploads/Editted-Images/CijQHIxl82hal6hh1qcP.jpg',\n",
       " 'https://www.alcazar.in/UserUploads/Editted-Images/1oVmIbiWk2pTuKtTGDFJ.jpg',\n",
       " 'https://www.alcazar.in/UserUploads/Editted-Images/7c9rtwqotEHwvzbxR9e1.jpg',\n",
       " 'https://www.alcazar.in/UserUploads/Editted-Images/7eg7IpZJherIU1oLQWyW.jpg',\n",
       " 'https://www.alcazar.in/UserUploads/Editted-Images/Y58VyTmJyhe5Ur84ohoP.jpg',\n",
       " 'https://www.alcazar.in/UserUploads/Editted-Images/sou91Y3nfGnvLUc2vwIK.jpg',\n",
       " 'https://www.alcazar.in/UserUploads/Editted-Images/XUHz5gpDlzaV2Gz7Xywy.jpg',\n",
       " 'https://www.alcazar.in/UserUploads/Editted-Images/75TQHAEZJoDiEUvgfhwU.jpg',\n",
       " 'https://www.alcazar.in/UserUploads/Editted-Images/RlXvFyKWwNQGsbIBJq1C.jpg',\n",
       " 'https://www.alcazar.in/UserUploads/Editted-Images/JhMpTe7BjRioSquMRNjX.jpg',\n",
       " 'https://www.alcazar.in/UserUploads/Editted-Images/3mPluMGo5lf4YCFNSWtS.jpg',\n",
       " 'https://www.alcazar.in/UserUploads/Editted-Images/YODBGkKUvlJ5b8eTqgem.jpg',\n",
       " 'https://www.alcazar.in/UserUploads/Editted-Images/i753uKe4WuLTuSqtKxDI.jpg',\n",
       " 'https://www.alcazar.in/UserUploads/Editted-Images/zEFEDjmA2czX0x8ceGnP.jpg',\n",
       " 'https://www.alcazar.in/UserUploads/Editted-Images/mtCVJqtdVmUHewZPzGRw.jpg',\n",
       " 'https://www.alcazar.in/UserUploads/Editted-Images/A79Kv3wQFCFJqf2gyH0G.jpg',\n",
       " 'https://www.alcazar.in/UserUploads/Editted-Images/HcMz4vzQnSEOJzfIA0Ba.jpg',\n",
       " 'https://www.alcazar.in/UserUploads/Editted-Images/yWGlBiEHBzLJWmS9GeJi.jpg',\n",
       " 'https://www.alcazar.in/UserUploads/Editted-Images/RhfqYYRJi96szQHlBJuF.jpg',\n",
       " 'https://www.alcazar.in/UserUploads/Editted-Images/9lUKHrczigcX6XlNZBBm.jpg',\n",
       " 'https://www.alcazar.in/UserUploads/Editted-Images/ipb7W8eUbgi4vR1GQ7Zi.jpg',\n",
       " 'https://www.alcazar.in/UserUploads/Editted-Images/vCXYdy6IZYgDd2NygThE.jpg',\n",
       " 'https://www.alcazar.in/UserUploads/Editted-Images/N9rgZRD7ErflMiSJrh5y.jpg',\n",
       " 'https://www.alcazar.in/UserUploads/Editted-Images/IuAt2hQd5lXnBwvBRZt6.jpg']"
      ]
     },
     "execution_count": 4,
     "metadata": {},
     "output_type": "execute_result"
    }
   ],
   "source": [
    "list_of_photos = soup.find_all(\"img\")\n",
    "list_of_photos = [el for el in list_of_photos if \"Editted-Images\" in str(el)]\n",
    "list_of_photos = [str(el).split(\"\\\"\")[7] for el in list_of_photos]\n",
    "list_of_photos = [f\"https://www.alcazar.in{el}\" for el in list_of_photos]\n",
    "list_of_photos\n",
    "#str(list_of_photos[0]).split(\"\\\"\")[7]"
   ]
  },
  {
   "cell_type": "markdown",
   "id": "594bda25",
   "metadata": {},
   "source": [
    "### 4. Creating sites with all breeds:"
   ]
  },
  {
   "cell_type": "code",
   "execution_count": 34,
   "id": "60ec6235",
   "metadata": {},
   "outputs": [
    {
     "name": "stdout",
     "output_type": "stream",
     "text": [
      "Chihuahua description...0,Yorkshire Terrier description...1,Pomeranian description...2,Papillon description...3,Affenpinscher description...4,Shih Tzu description...5,Pekingese description...6,American Eskimo description...7,Italian Greyhound description...8,Toy Poodle description...9,Miniature Pinscher description...10,Brussels Griffon description...11,Maltese description...12,Bichon Frise description...13,Shetland Sheepdog description...14,Dachshund (Miniature) description...15,Cavalier King Charles Spaniel description...16,French Bulldog description...17,Beagle description...18,Cocker Spaniel description...19,English Springer Spaniel description...20,Border Terrier description...21,Whippet description...22,Border Collie description...23,Australian Cattle Dog description...24,Boxer description...25,Dalmatian description...26,Siberian Husky description...27,Golden Retriever description...28,Labrador Retriever description...29,German Shepherd description...30,Rottweiler description...31,Great Dane description...32,Mastiff description...33,Saint Bernard description...34,"
     ]
    }
   ],
   "source": [
    "from duckduckgo_search import DDGS\n",
    "for i in range(8, len(list_of_dogs), 7):\n",
    "    #print(list_of_dogs[i].text)\n",
    "    dog_name = list_of_dogs[i].text\n",
    "    \n",
    "    path1 = os.path.join(os.getcwd(), \"dogs-informations\", f\"{dog_name.replace(' ', '_')}.md\")\n",
    "    with open(path1, 'w') as f3:\n",
    "        f3.write(f\"# {dog_name}\\n\\n\")\n",
    "    \n",
    "        f3.write(f\"### {dog_name} - description:\\n\\n\")\n",
    "        \n",
    "        print(f\"{dog_name} description...\", end=\"\")\n",
    "        results = DDGS().text(f\"{dog_name} description\", max_results=1)\n",
    "        f3.write(results[0]['body'])\n",
    "        f3.write(f\"[\\[read more\\]]({results[0]['href']})\\n\\n**Source:** __[{results[0]['title']}]({results[0]['href']})__\\n\\n\")\n",
    "        \n",
    "        f3.write(f\"### {dog_name} - training:\\n\\n\")\n",
    "        results = DDGS().text(f\"{dog_name} training\", max_results=3)\n",
    "        for j in range(3):\n",
    "            f3.write(f\"* {results[j]['body']}\")\n",
    "            f3.write(f\"[\\[read more\\]]({results[j]['href']})\\n\\n\")\n",
    "        \n",
    "        f3.write(f\"### {dog_name} - character:\\n\\n\")\n",
    "        results = DDGS().text(f\"{dog_name} character\", max_results=2)\n",
    "        for j in range(2):\n",
    "            f3.write(f\"* {results[j]['body']}\")\n",
    "            f3.write(f\"[\\[read more\\]]({results[j]['href']})\\n\\n\")\n",
    "        \n",
    "        \n",
    "        link = list_of_photos[int(i/7) - 1]\n",
    "        f3.write(f\"![photo]({link})\")\n",
    "        \n",
    "    print(int(i/7) - 1, end=\",\")\n"
   ]
  },
  {
   "cell_type": "markdown",
   "id": "25140459",
   "metadata": {},
   "source": []
  },
  {
   "cell_type": "code",
   "execution_count": null,
   "id": "f1728d24",
   "metadata": {},
   "outputs": [],
   "source": []
  },
  {
   "cell_type": "code",
   "execution_count": null,
   "id": "55832a1e",
   "metadata": {},
   "outputs": [],
   "source": [
    "\n"
   ]
  },
  {
   "cell_type": "code",
   "execution_count": null,
   "id": "0a65bd9d",
   "metadata": {},
   "outputs": [],
   "source": []
  },
  {
   "cell_type": "code",
   "execution_count": null,
   "id": "df057017",
   "metadata": {},
   "outputs": [],
   "source": []
  }
 ],
 "metadata": {
  "kernelspec": {
   "display_name": "Python 3 (ipykernel)",
   "language": "python",
   "name": "python3"
  },
  "language_info": {
   "codemirror_mode": {
    "name": "ipython",
    "version": 3
   },
   "file_extension": ".py",
   "mimetype": "text/x-python",
   "name": "python",
   "nbconvert_exporter": "python",
   "pygments_lexer": "ipython3",
   "version": "3.10.12"
  }
 },
 "nbformat": 4,
 "nbformat_minor": 5
}
