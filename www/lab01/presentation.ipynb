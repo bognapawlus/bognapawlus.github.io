{
 "cells": [
  {
   "cell_type": "markdown",
   "id": "cec160bf",
   "metadata": {},
   "source": [
    "### 1. Creating index.md:"
   ]
  },
  {
   "cell_type": "code",
   "execution_count": 35,
   "id": "cc160c9b",
   "metadata": {},
   "outputs": [],
   "source": [
    "import requests\n",
    "from bs4 import BeautifulSoup\n",
    "import os\n",
    "\n",
    "response = requests.get('https://www.nationalgeographic.com/animals/mammals/facts/domestic-dog')\n",
    "html_content = response.text\n",
    "soup = BeautifulSoup(html_content, 'html.parser')\n",
    "\n",
    "headings = soup.find_all(\"h2\")\n",
    "paragraphs = soup.find_all(\"p\")\n",
    "\n",
    "path1 = os.path.join(os.getcwd(), \"index.md\")\n",
    "with open(path1, 'w') as f2:\n",
    "    f2.write(\"# Dogs\\n\\n\")\n",
    "    f2.write(f\"{headings[0].text}\\n\\n\")\n",
    "    f2.write(f\"{paragraphs[6].text}\\n\\n\")\n",
    "    f2.write(f\"{paragraphs[6].text}\\n\\n\")\n",
    "    \n",
    "    f2.write(f\"[List of the most popular dogs breeds](list.md)\\n\\n\")\n",
    "    f2.write(\"![photo](https://www.alcazar.in/UserUploads/Editted-Images/yWGlBiEHBzLJWmS9GeJi.jpg)\")"
   ]
  },
  {
   "cell_type": "markdown",
   "id": "ab2bbcb2",
   "metadata": {},
   "source": [
    "### 2. Creating list.md"
   ]
  },
  {
   "cell_type": "code",
   "execution_count": 36,
   "id": "2fc7631d",
   "metadata": {},
   "outputs": [],
   "source": [
    "response = requests.get('https://www.alcazar.in/blog/a-complete-dog-breed-list')\n",
    "html_content = response.text\n",
    "soup = BeautifulSoup(html_content, 'html.parser')\n",
    "list_of_dogs = soup.find_all('td')\n",
    "n = len(list_of_dogs)\n",
    "column_names = list_of_dogs[0:7]"
   ]
  },
  {
   "cell_type": "code",
   "execution_count": 48,
   "id": "2d89d019",
   "metadata": {},
   "outputs": [],
   "source": [
    "i = 7\n",
    "with open('list.md', 'w') as f:\n",
    "    f.write(\"# _List of the most popular dogs breeds:_\\n\\n\")\n",
    "    \n",
    "    while i < n:\n",
    "        start = i\n",
    "        end = i + 7\n",
    "        \n",
    "        f.write(f\"### {list_of_dogs[i].text}. {list_of_dogs[i + 1].text}\\n\\n\")\n",
    "        \n",
    "        for el in range(start + 2, end):\n",
    "            f.write(f\"**{column_names[el%7].text}:** {list_of_dogs[el].text}\\n\\n\")\n",
    "        f.write(\"\\n\")\n",
    "        \n",
    "        dog_name = list_of_dogs[i+1].text\n",
    "        dog_name = dog_name.replace(' ', '_')\n",
    "        file_name = f\"dogs-informations/{dog_name}.md\"\n",
    "        f.write(f\"[More information about {list_of_dogs[i+1].text}]({file_name})\\n\\n\\n\\n\")\n",
    "\n",
    "        i = end"
   ]
  },
  {
   "cell_type": "markdown",
   "id": "8985e61a",
   "metadata": {},
   "source": [
    "### 3. Creating sites with all breeds:"
   ]
  },
  {
   "cell_type": "code",
   "execution_count": 49,
   "id": "13bc16a8",
   "metadata": {},
   "outputs": [],
   "source": [
    "for i in range(8, len(list_of_dogs), 7):\n",
    "    #print(list_of_dogs[i].text)\n",
    "    dog_name = list_of_dogs[i].text\n",
    "    \n",
    "    path1 = os.path.join(os.getcwd(), \"dogs-informations\", f\"{dog_name.replace(' ', '_')}.md\")\n",
    "    with open(path1, 'w') as f3:\n",
    "        f3.write(f\"# {dog_name}\\n\\n\")\n",
    "    \n"
   ]
  },
  {
   "cell_type": "code",
   "execution_count": 46,
   "id": "bad47876",
   "metadata": {},
   "outputs": [
    {
     "data": {
      "text/plain": [
       "'ala_kow'"
      ]
     },
     "execution_count": 46,
     "metadata": {},
     "output_type": "execute_result"
    }
   ],
   "source": [
    "xx = \"ala kow\"\n",
    "xx = xx.replace(' ', '_')\n",
    "xx"
   ]
  },
  {
   "cell_type": "code",
   "execution_count": null,
   "id": "93813c6c",
   "metadata": {},
   "outputs": [],
   "source": []
  }
 ],
 "metadata": {
  "kernelspec": {
   "display_name": "Python 3 (ipykernel)",
   "language": "python",
   "name": "python3"
  },
  "language_info": {
   "codemirror_mode": {
    "name": "ipython",
    "version": 3
   },
   "file_extension": ".py",
   "mimetype": "text/x-python",
   "name": "python",
   "nbconvert_exporter": "python",
   "pygments_lexer": "ipython3",
   "version": "3.10.12"
  }
 },
 "nbformat": 4,
 "nbformat_minor": 5
}
