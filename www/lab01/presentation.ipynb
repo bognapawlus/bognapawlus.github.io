{
 "cells": [
  {
   "cell_type": "markdown",
   "id": "0e1e29d4",
   "metadata": {},
   "source": [
    "### 1. Creating index.md:"
   ]
  },
  {
   "cell_type": "code",
   "execution_count": 26,
   "id": "46c5fba2",
   "metadata": {},
   "outputs": [],
   "source": [
    "import requests\n",
    "from bs4 import BeautifulSoup\n",
    "import os\n",
    "\n",
    "response = requests.get('https://www.nationalgeographic.com/animals/mammals/facts/domestic-dog')\n",
    "html_content = response.text\n",
    "soup = BeautifulSoup(html_content, 'html.parser')\n",
    "\n",
    "headings = soup.find_all(\"h2\")\n",
    "paragraphs = soup.find_all(\"p\")\n",
    "\n",
    "path1 = os.path.join(os.getcwd(), \"index.md\")\n",
    "with open(path1, 'w') as f2:\n",
    "    f2.write(\"# Dogs\\n\\n\")\n",
    "    f2.write(f\"{headings[0].text}\\n\\n\")\n",
    "    f2.write(f\"{paragraphs[6].text}\\n\\n\")\n",
    "    f2.write(f\"{paragraphs[6].text}\\n\\n\")\n",
    "    \n",
    "    f2.write(f\"[List of the most popular dogs breeds](list.md)\")"
   ]
  },
  {
   "cell_type": "markdown",
   "id": "589215e2",
   "metadata": {},
   "source": [
    "### 2. Creating list.md"
   ]
  },
  {
   "cell_type": "code",
   "execution_count": 28,
   "id": "c1306a80",
   "metadata": {},
   "outputs": [],
   "source": [
    "response = requests.get('https://www.alcazar.in/blog/a-complete-dog-breed-list')\n",
    "html_content = response.text\n",
    "soup = BeautifulSoup(html_content, 'html.parser')\n",
    "list_of_dogs = soup.find_all('td')\n",
    "n = len(list_of_dogs)\n",
    "column_names = list_of_dogs[0:7]"
   ]
  },
  {
   "cell_type": "code",
   "execution_count": 29,
   "id": "7ac6aa05",
   "metadata": {},
   "outputs": [],
   "source": [
    "i = 7\n",
    "with open('list.md', 'w') as f:\n",
    "    while i < n:\n",
    "        start = i\n",
    "        end = i + 7\n",
    "\n",
    "        for el in range(start, end):\n",
    "            f.write(f\"{list_of_dogs[el].text}\\t\\t\")\n",
    "        f.write(\"\\n\")\n",
    "\n",
    "        i = end"
   ]
  },
  {
   "cell_type": "code",
   "execution_count": null,
   "id": "078ed292",
   "metadata": {},
   "outputs": [],
   "source": []
  },
  {
   "cell_type": "code",
   "execution_count": null,
   "id": "e68df7ff",
   "metadata": {},
   "outputs": [],
   "source": []
  },
  {
   "cell_type": "code",
   "execution_count": null,
   "id": "de9223e6",
   "metadata": {},
   "outputs": [],
   "source": []
  }
 ],
 "metadata": {
  "kernelspec": {
   "display_name": "Python 3 (ipykernel)",
   "language": "python",
   "name": "python3"
  },
  "language_info": {
   "codemirror_mode": {
    "name": "ipython",
    "version": 3
   },
   "file_extension": ".py",
   "mimetype": "text/x-python",
   "name": "python",
   "nbconvert_exporter": "python",
   "pygments_lexer": "ipython3",
   "version": "3.10.12"
  }
 },
 "nbformat": 4,
 "nbformat_minor": 5
}
