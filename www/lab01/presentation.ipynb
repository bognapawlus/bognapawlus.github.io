{
 "cells": [
  {
   "cell_type": "markdown",
   "id": "7302dc1a",
   "metadata": {},
   "source": [
    "### 1. Creating index.md:"
   ]
  },
  {
   "cell_type": "code",
   "execution_count": 26,
   "id": "31851d42",
   "metadata": {},
   "outputs": [],
   "source": [
    "import requests\n",
    "from bs4 import BeautifulSoup\n",
    "import os\n",
    "\n",
    "response = requests.get('https://www.nationalgeographic.com/animals/mammals/facts/domestic-dog')\n",
    "html_content = response.text\n",
    "soup = BeautifulSoup(html_content, 'html.parser')\n",
    "\n",
    "headings = soup.find_all(\"h2\")\n",
    "paragraphs = soup.find_all(\"p\")\n",
    "\n",
    "path1 = os.path.join(os.getcwd(), \"index.md\")\n",
    "with open(path1, 'w') as f2:\n",
    "    f2.write(\"# Dogs\\n\\n\")\n",
    "    f2.write(f\"{headings[0].text}\\n\\n\")\n",
    "    f2.write(f\"{paragraphs[6].text}\\n\\n\")\n",
    "    f2.write(f\"{paragraphs[6].text}\\n\\n\")\n",
    "    \n",
    "    f2.write(f\"[List of the most popular dogs breeds](list.md)\\n\\n\")\n",
    "    f2.write(\"![photo](https://www.alcazar.in/UserUploads/Editted-Images/yWGlBiEHBzLJWmS9GeJi.jpg)\")"
   ]
  },
  {
   "cell_type": "markdown",
   "id": "4aaf0ee5",
   "metadata": {},
   "source": [
    "### 2. Creating list.md"
   ]
  },
  {
   "cell_type": "code",
   "execution_count": 30,
   "id": "97e01575",
   "metadata": {},
   "outputs": [],
   "source": [
    "response = requests.get('https://www.alcazar.in/blog/a-complete-dog-breed-list')\n",
    "html_content = response.text\n",
    "soup = BeautifulSoup(html_content, 'html.parser')\n",
    "list_of_dogs = soup.find_all('td')\n",
    "n = len(list_of_dogs)\n",
    "column_names = list_of_dogs[0:7]"
   ]
  },
  {
   "cell_type": "code",
   "execution_count": 34,
   "id": "17a52798",
   "metadata": {},
   "outputs": [],
   "source": [
    "i = 7\n",
    "with open('list.md', 'w') as f:\n",
    "    f.write(\"# _List of the most popular dogs breeds:_\\n\\n\")\n",
    "    \n",
    "    while i < n:\n",
    "        start = i\n",
    "        end = i + 7\n",
    "        \n",
    "        f.write(f\"### {list_of_dogs[i].text}. {list_of_dogs[i + 1].text}\\n\\n\")\n",
    "        \n",
    "        for el in range(start + 2, end):\n",
    "            f.write(f\"**{column_names[el%7].text}:** {list_of_dogs[el].text}\\n\\n\")\n",
    "        f.write(\"\\n\")\n",
    "\n",
    "        i = end"
   ]
  },
  {
   "cell_type": "markdown",
   "id": "52a2766b",
   "metadata": {},
   "source": []
  },
  {
   "cell_type": "code",
   "execution_count": null,
   "id": "b2d3e8fe",
   "metadata": {},
   "outputs": [],
   "source": []
  },
  {
   "cell_type": "code",
   "execution_count": null,
   "id": "03863490",
   "metadata": {},
   "outputs": [],
   "source": []
  }
 ],
 "metadata": {
  "kernelspec": {
   "display_name": "Python 3 (ipykernel)",
   "language": "python",
   "name": "python3"
  },
  "language_info": {
   "codemirror_mode": {
    "name": "ipython",
    "version": 3
   },
   "file_extension": ".py",
   "mimetype": "text/x-python",
   "name": "python",
   "nbconvert_exporter": "python",
   "pygments_lexer": "ipython3",
   "version": "3.10.12"
  }
 },
 "nbformat": 4,
 "nbformat_minor": 5
}
